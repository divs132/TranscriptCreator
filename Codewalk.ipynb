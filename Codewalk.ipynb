{
 "cells": [
  {
   "cell_type": "code",
   "execution_count": 1,
   "id": "53c7e1d7",
   "metadata": {},
   "outputs": [
    {
     "name": "stderr",
     "output_type": "stream",
     "text": [
      "################################################################################\n",
      "### WARNING, path does not exist: KALDI_ROOT=/mnt/matylda5/iveselyk/Tools/kaldi-trunk\n",
      "###          (please add 'export KALDI_ROOT=<your_path>' in your $HOME/.profile)\n",
      "###          (or run as: KALDI_ROOT=<your_path> python <your_script>.py)\n",
      "################################################################################\n",
      "\n"
     ]
    }
   ],
   "source": [
    "from INNO_FineTuner import FineTuner\n",
    "from INNO_TranscriptCreator import *\n",
    "import os\n"
   ]
  },
  {
   "cell_type": "code",
   "execution_count": null,
   "id": "4eb26379",
   "metadata": {},
   "outputs": [],
   "source": [
    "os.environ[\"WANDB_DISABLED\"] = \"true\"\n",
    "\n",
    "\n",
    "\n",
    "abc = TranscriptCreator(videopath='inno_video_2.mp4',video_topic='Computer Science',minimize_size=False,\n",
    "            baserootpath='/home/divyansh/Documents/Capstone',video_id='1_inno',make_new=False,upload_to_db=True)\n",
    "\n",
    "abc.create_transcript(diarize = False)\n",
    "\n",
    "print(abc.transcribe_full)\n"
   ]
  },
  {
   "cell_type": "code",
   "execution_count": null,
   "id": "add8f428",
   "metadata": {},
   "outputs": [],
   "source": [
    "abc.vad"
   ]
  },
  {
   "cell_type": "code",
   "execution_count": null,
   "id": "0887f6af",
   "metadata": {},
   "outputs": [],
   "source": [
    "abc.errors_mlm"
   ]
  },
  {
   "cell_type": "code",
   "execution_count": null,
   "id": "0e9eb470",
   "metadata": {},
   "outputs": [],
   "source": [
    "print(abc.punctuate_full)"
   ]
  },
  {
   "cell_type": "code",
   "execution_count": null,
   "id": "c0ea2f3f",
   "metadata": {},
   "outputs": [],
   "source": [
    "print(abc.mlm_full)"
   ]
  },
  {
   "cell_type": "code",
   "execution_count": null,
   "id": "9c9c8ead",
   "metadata": {},
   "outputs": [],
   "source": [
    "abc.errors_mlm"
   ]
  },
  {
   "cell_type": "code",
   "execution_count": null,
   "id": "dabc806a",
   "metadata": {},
   "outputs": [],
   "source": [
    "videopaths = ['inno_video_2.mp4','EN2001a.Mix-Headset.wav']\n",
    "\n",
    "video_ids=['1_inno','2_ami']\n",
    "\n",
    "batch_abc = Batch_TranscriptCreator(videopaths=videopaths,video_ids=video_ids,\n",
    "                            video_topic = 'Computer Science',baserootpath = '/home/divyansh/Documents/Capstone',\n",
    "                            delete_folders = False,diarize = False,upload_to_db=True)\n",
    "\n",
    "batch_abc.create_transcript(do_spell_check=False,minimize_size=False,upload_to_db=True,load_model=False)\n",
    "\n",
    "\n"
   ]
  },
  {
   "cell_type": "code",
   "execution_count": null,
   "id": "3cdcbe8b",
   "metadata": {},
   "outputs": [],
   "source": [
    "print(batch_abc.basic_model[0])"
   ]
  },
  {
   "cell_type": "code",
   "execution_count": null,
   "id": "1b65440d",
   "metadata": {},
   "outputs": [],
   "source": [
    "print(batch_abc.punctuated_op)\n"
   ]
  },
  {
   "cell_type": "code",
   "execution_count": null,
   "id": "ccd31017",
   "metadata": {},
   "outputs": [],
   "source": [
    "print(batch_abc.mlm_op)\n",
    "\n"
   ]
  },
  {
   "cell_type": "code",
   "execution_count": null,
   "id": "972527f6",
   "metadata": {},
   "outputs": [],
   "source": [
    "eval_abc = TranscriptCreator_Evaluator(dataset_name = 'timit_asr',\n",
    "        config_name='', video_topic = 'Computer Science',\n",
    "        baserootpath = '/home/divyansh/Documents/Capstone',delete_folders = True,\n",
    "        diarize = False,do_spell_check = False,max_test=10,\n",
    "        minimize_size=False,\n",
    "        upload_to_db=False,load_models=False)\n",
    "\n",
    "\n",
    "\n"
   ]
  },
  {
   "cell_type": "code",
   "execution_count": null,
   "id": "3b91330e",
   "metadata": {},
   "outputs": [],
   "source": [
    "print(eval_abc.evaluate_metrics(eval_abc.batcher))"
   ]
  },
  {
   "cell_type": "code",
   "execution_count": null,
   "id": "fce21f97",
   "metadata": {},
   "outputs": [],
   "source": [
    "finetune_abc = FineTuner(firebase_config_path='',cred_file_path='',baserootpath='/home/divyansh/Documents/Capstone',\n",
    "                oldbaserootpath='/home/divyansh/Documents/Capstone',outdir = '/home/divyansh/Desktop/train1')\n",
    "\n",
    "print(finetune_abc.all_datasets)"
   ]
  },
  {
   "cell_type": "code",
   "execution_count": null,
   "id": "080b971d",
   "metadata": {},
   "outputs": [],
   "source": [
    "print(finetune_abc.all_gtruths)"
   ]
  },
  {
   "cell_type": "code",
   "execution_count": null,
   "id": "9d19e8ef",
   "metadata": {},
   "outputs": [],
   "source": [
    "print(finetune_abc.all_tokens)"
   ]
  },
  {
   "cell_type": "code",
   "execution_count": null,
   "id": "bdd3be42",
   "metadata": {},
   "outputs": [],
   "source": [
    "finetune_abc.start_finetune()"
   ]
  },
  {
   "cell_type": "code",
   "execution_count": null,
   "id": "81630a72",
   "metadata": {},
   "outputs": [],
   "source": []
  }
 ],
 "metadata": {
  "kernelspec": {
   "display_name": "Python 3 (ipykernel)",
   "language": "python",
   "name": "python3"
  },
  "language_info": {
   "codemirror_mode": {
    "name": "ipython",
    "version": 3
   },
   "file_extension": ".py",
   "mimetype": "text/x-python",
   "name": "python",
   "nbconvert_exporter": "python",
   "pygments_lexer": "ipython3",
   "version": "3.9.7"
  }
 },
 "nbformat": 4,
 "nbformat_minor": 5
}
